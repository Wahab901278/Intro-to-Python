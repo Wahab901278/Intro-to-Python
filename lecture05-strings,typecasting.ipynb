{
 "cells": [
  {
   "cell_type": "markdown",
   "id": "e97ae7df",
   "metadata": {},
   "source": [
    "### TypeCasting"
   ]
  },
  {
   "cell_type": "code",
   "execution_count": 1,
   "id": "e4675f99",
   "metadata": {},
   "outputs": [
    {
     "data": {
      "text/plain": [
       "2"
      ]
     },
     "execution_count": 1,
     "metadata": {},
     "output_type": "execute_result"
    }
   ],
   "source": [
    "int('2')"
   ]
  },
  {
   "cell_type": "code",
   "execution_count": 2,
   "id": "506c1c29",
   "metadata": {},
   "outputs": [
    {
     "data": {
      "text/plain": [
       "2.0"
      ]
     },
     "execution_count": 2,
     "metadata": {},
     "output_type": "execute_result"
    }
   ],
   "source": [
    "float('2')"
   ]
  },
  {
   "cell_type": "code",
   "execution_count": 3,
   "id": "6d9cc62b",
   "metadata": {},
   "outputs": [
    {
     "data": {
      "text/plain": [
       "3.0"
      ]
     },
     "execution_count": 3,
     "metadata": {},
     "output_type": "execute_result"
    }
   ],
   "source": [
    "float(3)"
   ]
  },
  {
   "cell_type": "code",
   "execution_count": 4,
   "id": "a1dc5661",
   "metadata": {},
   "outputs": [
    {
     "data": {
      "text/plain": [
       "'3'"
      ]
     },
     "execution_count": 4,
     "metadata": {},
     "output_type": "execute_result"
    }
   ],
   "source": [
    "str(3)"
   ]
  },
  {
   "cell_type": "code",
   "execution_count": 5,
   "id": "eff25d88",
   "metadata": {},
   "outputs": [
    {
     "data": {
      "text/plain": [
       "'3.0'"
      ]
     },
     "execution_count": 5,
     "metadata": {},
     "output_type": "execute_result"
    }
   ],
   "source": [
    "str(3.0)"
   ]
  },
  {
   "cell_type": "code",
   "execution_count": 6,
   "id": "e4f954f5",
   "metadata": {},
   "outputs": [
    {
     "ename": "ValueError",
     "evalue": "invalid literal for int() with base 10: '2a'",
     "output_type": "error",
     "traceback": [
      "\u001b[0;31m---------------------------------------------------------------------------\u001b[0m",
      "\u001b[0;31mValueError\u001b[0m                                Traceback (most recent call last)",
      "Cell \u001b[0;32mIn[6], line 1\u001b[0m\n\u001b[0;32m----> 1\u001b[0m \u001b[38;5;28mint\u001b[39m(\u001b[38;5;124m'\u001b[39m\u001b[38;5;124m2a\u001b[39m\u001b[38;5;124m'\u001b[39m)\n",
      "\u001b[0;31mValueError\u001b[0m: invalid literal for int() with base 10: '2a'"
     ]
    }
   ],
   "source": [
    "int('2a')"
   ]
  },
  {
   "cell_type": "code",
   "execution_count": 8,
   "id": "c1edccf6",
   "metadata": {},
   "outputs": [
    {
     "data": {
      "text/plain": [
       "2"
      ]
     },
     "execution_count": 8,
     "metadata": {},
     "output_type": "execute_result"
    }
   ],
   "source": [
    "int(2.9)"
   ]
  },
  {
   "cell_type": "markdown",
   "id": "7bc875c6",
   "metadata": {},
   "source": [
    "## Strings "
   ]
  },
  {
   "cell_type": "code",
   "execution_count": 9,
   "id": "446f57ac",
   "metadata": {},
   "outputs": [],
   "source": [
    "x=\"Abdul Wahab\"  # single line string"
   ]
  },
  {
   "cell_type": "code",
   "execution_count": 10,
   "id": "e6d3e16c",
   "metadata": {},
   "outputs": [],
   "source": [
    "y='Abdul Wahab' #another way"
   ]
  },
  {
   "cell_type": "code",
   "execution_count": 11,
   "id": "ad2fdf72",
   "metadata": {},
   "outputs": [
    {
     "data": {
      "text/plain": [
       "('Abdul Wahab', 'Abdul Wahab')"
      ]
     },
     "execution_count": 11,
     "metadata": {},
     "output_type": "execute_result"
    }
   ],
   "source": [
    "x,y"
   ]
  },
  {
   "cell_type": "code",
   "execution_count": 12,
   "id": "d92ca4b7",
   "metadata": {},
   "outputs": [],
   "source": [
    "z=\"\"\"This is a Multiline \n",
    "    String\"\"\""
   ]
  },
  {
   "cell_type": "code",
   "execution_count": 14,
   "id": "7f474cae",
   "metadata": {},
   "outputs": [
    {
     "data": {
      "text/plain": [
       "'This is a Multiline \\n    String'"
      ]
     },
     "execution_count": 14,
     "metadata": {},
     "output_type": "execute_result"
    }
   ],
   "source": [
    "z"
   ]
  },
  {
   "cell_type": "code",
   "execution_count": 15,
   "id": "2b423d39",
   "metadata": {},
   "outputs": [],
   "source": [
    "## Some string operations"
   ]
  },
  {
   "cell_type": "code",
   "execution_count": 16,
   "id": "098bff7e",
   "metadata": {},
   "outputs": [
    {
     "data": {
      "text/plain": [
       "'Ab'"
      ]
     },
     "execution_count": 16,
     "metadata": {},
     "output_type": "execute_result"
    }
   ],
   "source": [
    "x=\"Abdul Wahab\"\n",
    "x[0:2]"
   ]
  },
  {
   "cell_type": "code",
   "execution_count": 17,
   "id": "f2b8d113",
   "metadata": {},
   "outputs": [
    {
     "data": {
      "text/plain": [
       "'Abd'"
      ]
     },
     "execution_count": 17,
     "metadata": {},
     "output_type": "execute_result"
    }
   ],
   "source": [
    "x[:3]"
   ]
  },
  {
   "cell_type": "code",
   "execution_count": 18,
   "id": "a9d9e1ae",
   "metadata": {},
   "outputs": [
    {
     "data": {
      "text/plain": [
       "'ul Wahab'"
      ]
     },
     "execution_count": 18,
     "metadata": {},
     "output_type": "execute_result"
    }
   ],
   "source": [
    "x[3:]"
   ]
  },
  {
   "cell_type": "code",
   "execution_count": 19,
   "id": "5e01a01f",
   "metadata": {},
   "outputs": [
    {
     "data": {
      "text/plain": [
       "11"
      ]
     },
     "execution_count": 19,
     "metadata": {},
     "output_type": "execute_result"
    }
   ],
   "source": [
    "len(x)"
   ]
  },
  {
   "cell_type": "code",
   "execution_count": null,
   "id": "fda695ca",
   "metadata": {},
   "outputs": [],
   "source": [
    "#Check whether something is in the string."
   ]
  },
  {
   "cell_type": "code",
   "execution_count": 21,
   "id": "d195f6b6",
   "metadata": {},
   "outputs": [],
   "source": [
    "y= \"This is a book\""
   ]
  },
  {
   "cell_type": "code",
   "execution_count": 22,
   "id": "d268e59e",
   "metadata": {},
   "outputs": [
    {
     "data": {
      "text/plain": [
       "True"
      ]
     },
     "execution_count": 22,
     "metadata": {},
     "output_type": "execute_result"
    }
   ],
   "source": [
    "\"is\" in y"
   ]
  },
  {
   "cell_type": "code",
   "execution_count": 23,
   "id": "b4c368d4",
   "metadata": {},
   "outputs": [
    {
     "data": {
      "text/plain": [
       "True"
      ]
     },
     "execution_count": 23,
     "metadata": {},
     "output_type": "execute_result"
    }
   ],
   "source": [
    "\"a\" in y"
   ]
  },
  {
   "cell_type": "code",
   "execution_count": 24,
   "id": "f6862f4a",
   "metadata": {},
   "outputs": [
    {
     "data": {
      "text/plain": [
       "False"
      ]
     },
     "execution_count": 24,
     "metadata": {},
     "output_type": "execute_result"
    }
   ],
   "source": [
    "\"and\" in y"
   ]
  },
  {
   "cell_type": "code",
   "execution_count": 25,
   "id": "13278f20",
   "metadata": {},
   "outputs": [
    {
     "data": {
      "text/plain": [
       "True"
      ]
     },
     "execution_count": 25,
     "metadata": {},
     "output_type": "execute_result"
    }
   ],
   "source": [
    "\" \" in y"
   ]
  },
  {
   "cell_type": "code",
   "execution_count": 26,
   "id": "838ba8da",
   "metadata": {},
   "outputs": [
    {
     "data": {
      "text/plain": [
       "True"
      ]
     },
     "execution_count": 26,
     "metadata": {},
     "output_type": "execute_result"
    }
   ],
   "source": [
    "'s' in y"
   ]
  },
  {
   "cell_type": "code",
   "execution_count": 28,
   "id": "44f4d92c",
   "metadata": {},
   "outputs": [
    {
     "name": "stdout",
     "output_type": "stream",
     "text": [
      "Present\n",
      "Present\n"
     ]
    }
   ],
   "source": [
    "if \"This\" in y:\n",
    "    print(\"Present\")\n",
    "if \"book\" in y:\n",
    "    print(\"Present\")"
   ]
  },
  {
   "cell_type": "code",
   "execution_count": 30,
   "id": "8263b9d9",
   "metadata": {},
   "outputs": [],
   "source": [
    "if \"This\" not in y:\n",
    "    print(\"Present\")"
   ]
  },
  {
   "cell_type": "code",
   "execution_count": 31,
   "id": "47abd0a0",
   "metadata": {},
   "outputs": [
    {
     "name": "stdout",
     "output_type": "stream",
     "text": [
      "absent\n"
     ]
    }
   ],
   "source": [
    "if \"This\" not in y:\n",
    "    print(\"Present\")\n",
    "else:\n",
    "    print(\"absent\")"
   ]
  },
  {
   "cell_type": "code",
   "execution_count": 32,
   "id": "9ec4c44d",
   "metadata": {},
   "outputs": [
    {
     "name": "stdout",
     "output_type": "stream",
     "text": [
      "Present\n",
      "Present\n"
     ]
    }
   ],
   "source": [
    "if \"This\" in y:\n",
    "    print(\"Present\")\n",
    "if \"book\" in y:\n",
    "    print(\"Present\")"
   ]
  },
  {
   "cell_type": "code",
   "execution_count": null,
   "id": "5f65d679",
   "metadata": {},
   "outputs": [],
   "source": [
    "# String slicing"
   ]
  },
  {
   "cell_type": "code",
   "execution_count": 33,
   "id": "387bbc5b",
   "metadata": {},
   "outputs": [],
   "source": [
    "string=\"Hello, I am IronMan\""
   ]
  },
  {
   "cell_type": "code",
   "execution_count": 34,
   "id": "0288170b",
   "metadata": {},
   "outputs": [
    {
     "data": {
      "text/plain": [
       "'Hello, I am IronMan'"
      ]
     },
     "execution_count": 34,
     "metadata": {},
     "output_type": "execute_result"
    }
   ],
   "source": [
    "string[0:len(string)]"
   ]
  },
  {
   "cell_type": "code",
   "execution_count": 35,
   "id": "b86f9ced",
   "metadata": {},
   "outputs": [
    {
     "data": {
      "text/plain": [
       "'Hello, I am IronMa'"
      ]
     },
     "execution_count": 35,
     "metadata": {},
     "output_type": "execute_result"
    }
   ],
   "source": [
    "string[0:len(string)-1]"
   ]
  },
  {
   "cell_type": "code",
   "execution_count": 36,
   "id": "ccda6f61",
   "metadata": {},
   "outputs": [
    {
     "data": {
      "text/plain": [
       "'Hello, I am IronMan'"
      ]
     },
     "execution_count": 36,
     "metadata": {},
     "output_type": "execute_result"
    }
   ],
   "source": [
    "string[:]"
   ]
  },
  {
   "cell_type": "code",
   "execution_count": 37,
   "id": "c36231f6",
   "metadata": {},
   "outputs": [
    {
     "data": {
      "text/plain": [
       "'Hello, I am IronMan'"
      ]
     },
     "execution_count": 37,
     "metadata": {},
     "output_type": "execute_result"
    }
   ],
   "source": [
    "string[0:]"
   ]
  },
  {
   "cell_type": "code",
   "execution_count": 38,
   "id": "a6337f7d",
   "metadata": {},
   "outputs": [
    {
     "data": {
      "text/plain": [
       "'Hello, I am IronMan'"
      ]
     },
     "execution_count": 38,
     "metadata": {},
     "output_type": "execute_result"
    }
   ],
   "source": [
    "string[:len(string)]"
   ]
  },
  {
   "cell_type": "code",
   "execution_count": 39,
   "id": "7503ef6b",
   "metadata": {},
   "outputs": [
    {
     "data": {
      "text/plain": [
       "'Hello,'"
      ]
     },
     "execution_count": 39,
     "metadata": {},
     "output_type": "execute_result"
    }
   ],
   "source": [
    "string[:6]"
   ]
  },
  {
   "cell_type": "code",
   "execution_count": 40,
   "id": "c50f4b3a",
   "metadata": {},
   "outputs": [
    {
     "data": {
      "text/plain": [
       "'ll'"
      ]
     },
     "execution_count": 40,
     "metadata": {},
     "output_type": "execute_result"
    }
   ],
   "source": [
    "string[2:4]"
   ]
  },
  {
   "cell_type": "code",
   "execution_count": null,
   "id": "37fd6765",
   "metadata": {},
   "outputs": [],
   "source": [
    "# We can also use some negative indexing"
   ]
  },
  {
   "cell_type": "code",
   "execution_count": 43,
   "id": "99bd503b",
   "metadata": {},
   "outputs": [
    {
     "data": {
      "text/plain": [
       "'Hello'"
      ]
     },
     "execution_count": 43,
     "metadata": {},
     "output_type": "execute_result"
    }
   ],
   "source": [
    "string=\"Hello\"\n",
    "string[-5:]"
   ]
  },
  {
   "cell_type": "code",
   "execution_count": 44,
   "id": "3a267168",
   "metadata": {},
   "outputs": [],
   "source": [
    "# Modifying Strings"
   ]
  },
  {
   "cell_type": "code",
   "execution_count": 46,
   "id": "61780c3e",
   "metadata": {},
   "outputs": [],
   "source": [
    "s=\"Asma Alshamsi\""
   ]
  },
  {
   "cell_type": "code",
   "execution_count": 47,
   "id": "1bc24b1e",
   "metadata": {},
   "outputs": [],
   "source": [
    "t=s.upper()"
   ]
  },
  {
   "cell_type": "code",
   "execution_count": 48,
   "id": "8bf23c02",
   "metadata": {},
   "outputs": [
    {
     "data": {
      "text/plain": [
       "'ASMA ALSHAMSI'"
      ]
     },
     "execution_count": 48,
     "metadata": {},
     "output_type": "execute_result"
    }
   ],
   "source": [
    "t"
   ]
  },
  {
   "cell_type": "code",
   "execution_count": 49,
   "id": "bcf05de0",
   "metadata": {},
   "outputs": [
    {
     "data": {
      "text/plain": [
       "'asma alshamsi'"
      ]
     },
     "execution_count": 49,
     "metadata": {},
     "output_type": "execute_result"
    }
   ],
   "source": [
    "t.lower()"
   ]
  },
  {
   "cell_type": "code",
   "execution_count": 51,
   "id": "427e9d0f",
   "metadata": {},
   "outputs": [
    {
     "data": {
      "text/plain": [
       "'Asma alshamsi'"
      ]
     },
     "execution_count": 51,
     "metadata": {},
     "output_type": "execute_result"
    }
   ],
   "source": [
    "t.capitalize()"
   ]
  },
  {
   "cell_type": "code",
   "execution_count": 52,
   "id": "094b8434",
   "metadata": {},
   "outputs": [],
   "source": [
    "s=\"  Asma Alshamsi\""
   ]
  },
  {
   "cell_type": "code",
   "execution_count": 53,
   "id": "a185c3d0",
   "metadata": {},
   "outputs": [
    {
     "data": {
      "text/plain": [
       "'  Asma Alshamsi'"
      ]
     },
     "execution_count": 53,
     "metadata": {},
     "output_type": "execute_result"
    }
   ],
   "source": [
    "s"
   ]
  },
  {
   "cell_type": "code",
   "execution_count": 54,
   "id": "7aad4f7b",
   "metadata": {},
   "outputs": [
    {
     "data": {
      "text/plain": [
       "'Asma Alshamsi'"
      ]
     },
     "execution_count": 54,
     "metadata": {},
     "output_type": "execute_result"
    }
   ],
   "source": [
    "s.strip()"
   ]
  },
  {
   "cell_type": "code",
   "execution_count": 56,
   "id": "77661095",
   "metadata": {},
   "outputs": [],
   "source": [
    "new_string=\"Ronaldo\""
   ]
  },
  {
   "cell_type": "code",
   "execution_count": 57,
   "id": "0ebbbea0",
   "metadata": {},
   "outputs": [
    {
     "data": {
      "text/plain": [
       "'sonaldo'"
      ]
     },
     "execution_count": 57,
     "metadata": {},
     "output_type": "execute_result"
    }
   ],
   "source": [
    "new_string.replace(\"R\",\"s\")"
   ]
  },
  {
   "cell_type": "code",
   "execution_count": 59,
   "id": "15506e1e",
   "metadata": {},
   "outputs": [],
   "source": [
    "another_string=\"Cristiano, Ronaldo\""
   ]
  },
  {
   "cell_type": "code",
   "execution_count": 61,
   "id": "c8aa6f48",
   "metadata": {},
   "outputs": [
    {
     "data": {
      "text/plain": [
       "['Cristiano', ' Ronaldo']"
      ]
     },
     "execution_count": 61,
     "metadata": {},
     "output_type": "execute_result"
    }
   ],
   "source": [
    "another_string.split(\",\")"
   ]
  },
  {
   "cell_type": "code",
   "execution_count": 62,
   "id": "e4cf86dd",
   "metadata": {},
   "outputs": [
    {
     "ename": "ValueError",
     "evalue": "empty separator",
     "output_type": "error",
     "traceback": [
      "\u001b[0;31m---------------------------------------------------------------------------\u001b[0m",
      "\u001b[0;31mValueError\u001b[0m                                Traceback (most recent call last)",
      "Cell \u001b[0;32mIn[62], line 1\u001b[0m\n\u001b[0;32m----> 1\u001b[0m another_string\u001b[38;5;241m.\u001b[39msplit(\u001b[38;5;124m\"\u001b[39m\u001b[38;5;124m\"\u001b[39m)\n",
      "\u001b[0;31mValueError\u001b[0m: empty separator"
     ]
    }
   ],
   "source": [
    "another_string.split(\"\")"
   ]
  },
  {
   "cell_type": "code",
   "execution_count": 63,
   "id": "7636c33c",
   "metadata": {},
   "outputs": [
    {
     "data": {
      "text/plain": [
       "['Cristiano,', 'Ronaldo']"
      ]
     },
     "execution_count": 63,
     "metadata": {},
     "output_type": "execute_result"
    }
   ],
   "source": [
    "another_string.split(\" \")"
   ]
  },
  {
   "cell_type": "code",
   "execution_count": 65,
   "id": "8ce979da",
   "metadata": {},
   "outputs": [
    {
     "data": {
      "text/plain": [
       "['Cristiano,', 'Ronaldo']"
      ]
     },
     "execution_count": 65,
     "metadata": {},
     "output_type": "execute_result"
    }
   ],
   "source": [
    "another_string.split()"
   ]
  },
  {
   "cell_type": "code",
   "execution_count": 66,
   "id": "b2fd22f0",
   "metadata": {},
   "outputs": [],
   "source": [
    "a=\"Asma\"\n",
    "b=\"Alshamsi\"\n",
    "c=a+b"
   ]
  },
  {
   "cell_type": "code",
   "execution_count": 67,
   "id": "7583f27a",
   "metadata": {},
   "outputs": [
    {
     "data": {
      "text/plain": [
       "'AsmaAlshamsi'"
      ]
     },
     "execution_count": 67,
     "metadata": {},
     "output_type": "execute_result"
    }
   ],
   "source": [
    "c"
   ]
  },
  {
   "cell_type": "code",
   "execution_count": 68,
   "id": "542b24f8",
   "metadata": {},
   "outputs": [],
   "source": [
    "c=a+\" \"+b"
   ]
  },
  {
   "cell_type": "code",
   "execution_count": 69,
   "id": "8e0c0e29",
   "metadata": {},
   "outputs": [
    {
     "data": {
      "text/plain": [
       "'Asma Alshamsi'"
      ]
     },
     "execution_count": 69,
     "metadata": {},
     "output_type": "execute_result"
    }
   ],
   "source": [
    "c"
   ]
  },
  {
   "cell_type": "code",
   "execution_count": null,
   "id": "f923732b",
   "metadata": {},
   "outputs": [],
   "source": [
    "#Format Strings"
   ]
  },
  {
   "cell_type": "code",
   "execution_count": 3,
   "id": "15a41afc",
   "metadata": {},
   "outputs": [
    {
     "name": "stdout",
     "output_type": "stream",
     "text": [
      "I am Abdul Wahab and my age is 20\n"
     ]
    }
   ],
   "source": [
    "age=20\n",
    "print(\"I am Abdul Wahab and my age is\",age)"
   ]
  },
  {
   "cell_type": "code",
   "execution_count": 4,
   "id": "9dd72d52",
   "metadata": {},
   "outputs": [
    {
     "name": "stdout",
     "output_type": "stream",
     "text": [
      "I am Abdul Wahab and my age is {age}\n"
     ]
    }
   ],
   "source": [
    "age=20\n",
    "print(\"I am Abdul Wahab and my age is {age}\") # Notice still not working perfectly"
   ]
  },
  {
   "cell_type": "code",
   "execution_count": 5,
   "id": "7553ea52",
   "metadata": {},
   "outputs": [
    {
     "name": "stdout",
     "output_type": "stream",
     "text": [
      "I am Abdul Wahab and my age is 20\n"
     ]
    }
   ],
   "source": [
    "age=20\n",
    "print(f\"I am Abdul Wahab and my age is {age}\")"
   ]
  },
  {
   "cell_type": "code",
   "execution_count": 7,
   "id": "dc5b5e80",
   "metadata": {},
   "outputs": [
    {
     "name": "stdout",
     "output_type": "stream",
     "text": [
      "I am Abdul Wahab and my age is 20\n"
     ]
    }
   ],
   "source": [
    "age,name=20,\"Abdul Wahab\"\n",
    "print(f\"I am {name} and my age is {age}\")"
   ]
  },
  {
   "cell_type": "code",
   "execution_count": 8,
   "id": "eb74810a",
   "metadata": {},
   "outputs": [
    {
     "name": "stdout",
     "output_type": "stream",
     "text": [
      "This watch Costs 20 $\n"
     ]
    }
   ],
   "source": [
    "price=20\n",
    "print(f\"This watch Costs {price} $\")"
   ]
  },
  {
   "cell_type": "code",
   "execution_count": 11,
   "id": "422b77d7",
   "metadata": {},
   "outputs": [
    {
     "name": "stdout",
     "output_type": "stream",
     "text": [
      "This watch Costs 20.000000 $\n"
     ]
    }
   ],
   "source": [
    "price=20\n",
    "print(f\"This watch Costs {price:.6f} $\")"
   ]
  },
  {
   "cell_type": "code",
   "execution_count": 13,
   "id": "92a88e96",
   "metadata": {},
   "outputs": [
    {
     "name": "stdout",
     "output_type": "stream",
     "text": [
      "This watch Costs 40.00 $\n"
     ]
    }
   ],
   "source": [
    "price=20\n",
    "print(f\"This watch Costs {price*2:.2f} $\")"
   ]
  },
  {
   "cell_type": "code",
   "execution_count": null,
   "id": "291ca2a7",
   "metadata": {},
   "outputs": [],
   "source": []
  }
 ],
 "metadata": {
  "kernelspec": {
   "display_name": "Python 3 (ipykernel)",
   "language": "python",
   "name": "python3"
  },
  "language_info": {
   "codemirror_mode": {
    "name": "ipython",
    "version": 3
   },
   "file_extension": ".py",
   "mimetype": "text/x-python",
   "name": "python",
   "nbconvert_exporter": "python",
   "pygments_lexer": "ipython3",
   "version": "3.11.5"
  }
 },
 "nbformat": 4,
 "nbformat_minor": 5
}
