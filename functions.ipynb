{
 "cells": [
  {
   "cell_type": "code",
   "execution_count": 27,
   "id": "e7b2e170",
   "metadata": {},
   "outputs": [],
   "source": [
    "def square(y=5):\n",
    "    return y*y"
   ]
  },
  {
   "cell_type": "code",
   "execution_count": 30,
   "id": "4b79dc5c",
   "metadata": {},
   "outputs": [
    {
     "data": {
      "text/plain": [
       "25"
      ]
     },
     "execution_count": 30,
     "metadata": {},
     "output_type": "execute_result"
    }
   ],
   "source": [
    "square(5)"
   ]
  },
  {
   "cell_type": "code",
   "execution_count": 56,
   "id": "8712b3aa",
   "metadata": {},
   "outputs": [],
   "source": [
    "def sumSquare(x,y):\n",
    "    \"\"\"\n",
    "    sumSquare function takes two input parameters:\n",
    "    1) x -> could be any value but float and integer\n",
    "    2) y -> could be any value but float and integer\n",
    "    Result:\n",
    "        Returns the sum of Squares of any two numbers\n",
    "    \"\"\"\n",
    "    return square(x)+square(y)"
   ]
  },
  {
   "cell_type": "code",
   "execution_count": 57,
   "id": "c6a6151a",
   "metadata": {},
   "outputs": [
    {
     "name": "stdout",
     "output_type": "stream",
     "text": [
      "Help on function sumSquare in module __main__:\n",
      "\n",
      "sumSquare(x, y)\n",
      "    sumSquare function takes two input parameters:\n",
      "    1) x -> could be any value but float and integer\n",
      "    2) y -> could be any value but float and integer\n",
      "    Result:\n",
      "        Returns the sum of Squares of any two numbers\n",
      "\n"
     ]
    }
   ],
   "source": [
    "#sumSquare(4,3)\n",
    "help(sumSquare)"
   ]
  },
  {
   "cell_type": "code",
   "execution_count": 33,
   "id": "c686b2db",
   "metadata": {},
   "outputs": [
    {
     "ename": "TypeError",
     "evalue": "can't multiply sequence by non-int of type 'str'",
     "output_type": "error",
     "traceback": [
      "\u001b[0;31m---------------------------------------------------------------------------\u001b[0m",
      "\u001b[0;31mTypeError\u001b[0m                                 Traceback (most recent call last)",
      "Cell \u001b[0;32mIn[33], line 1\u001b[0m\n\u001b[0;32m----> 1\u001b[0m sumSquare(\u001b[38;5;124m'\u001b[39m\u001b[38;5;124ma\u001b[39m\u001b[38;5;124m'\u001b[39m,\u001b[38;5;124m'\u001b[39m\u001b[38;5;124m3\u001b[39m\u001b[38;5;124m'\u001b[39m)\n",
      "Cell \u001b[0;32mIn[31], line 2\u001b[0m, in \u001b[0;36msumSquare\u001b[0;34m(x, y)\u001b[0m\n\u001b[1;32m      1\u001b[0m \u001b[38;5;28;01mdef\u001b[39;00m \u001b[38;5;21msumSquare\u001b[39m(x,y):\n\u001b[0;32m----> 2\u001b[0m     \u001b[38;5;28;01mreturn\u001b[39;00m square(x)\u001b[38;5;241m+\u001b[39msquare(y)\n",
      "Cell \u001b[0;32mIn[27], line 2\u001b[0m, in \u001b[0;36msquare\u001b[0;34m(y)\u001b[0m\n\u001b[1;32m      1\u001b[0m \u001b[38;5;28;01mdef\u001b[39;00m \u001b[38;5;21msquare\u001b[39m(y):\n\u001b[0;32m----> 2\u001b[0m     z\u001b[38;5;241m=\u001b[39my\u001b[38;5;241m*\u001b[39my\n\u001b[1;32m      3\u001b[0m     \u001b[38;5;28;01mreturn\u001b[39;00m z\n",
      "\u001b[0;31mTypeError\u001b[0m: can't multiply sequence by non-int of type 'str'"
     ]
    }
   ],
   "source": [
    "sumSquare('a','3')"
   ]
  },
  {
   "cell_type": "code",
   "execution_count": 34,
   "id": "52a70452",
   "metadata": {},
   "outputs": [
    {
     "data": {
      "text/plain": [
       "'a3'"
      ]
     },
     "execution_count": 34,
     "metadata": {},
     "output_type": "execute_result"
    }
   ],
   "source": [
    "'a'+'3'"
   ]
  },
  {
   "cell_type": "code",
   "execution_count": 36,
   "id": "07d12720",
   "metadata": {},
   "outputs": [
    {
     "data": {
      "text/plain": [
       "'aa'"
      ]
     },
     "execution_count": 36,
     "metadata": {},
     "output_type": "execute_result"
    }
   ],
   "source": [
    "'a'+'a'"
   ]
  },
  {
   "cell_type": "code",
   "execution_count": 38,
   "id": "ba8b4d47",
   "metadata": {},
   "outputs": [
    {
     "data": {
      "text/plain": [
       "'aa'"
      ]
     },
     "execution_count": 38,
     "metadata": {},
     "output_type": "execute_result"
    }
   ],
   "source": [
    "2*'a'"
   ]
  },
  {
   "cell_type": "markdown",
   "id": "15f62da3",
   "metadata": {},
   "source": [
    "### Global and Local Scope"
   ]
  },
  {
   "cell_type": "code",
   "execution_count": 47,
   "id": "ea1726bb",
   "metadata": {},
   "outputs": [],
   "source": [
    "def xyz():\n",
    "    print(\"local Scope\")\n",
    "    a=6\n",
    "    print(a)"
   ]
  },
  {
   "cell_type": "code",
   "execution_count": 48,
   "id": "e7a43ef4",
   "metadata": {},
   "outputs": [
    {
     "name": "stdout",
     "output_type": "stream",
     "text": [
      "local Scope\n",
      "6\n"
     ]
    }
   ],
   "source": [
    "xyz()"
   ]
  },
  {
   "cell_type": "code",
   "execution_count": 49,
   "id": "eeaa9756",
   "metadata": {},
   "outputs": [
    {
     "ename": "NameError",
     "evalue": "name 'a' is not defined",
     "output_type": "error",
     "traceback": [
      "\u001b[0;31m---------------------------------------------------------------------------\u001b[0m",
      "\u001b[0;31mNameError\u001b[0m                                 Traceback (most recent call last)",
      "Cell \u001b[0;32mIn[49], line 1\u001b[0m\n\u001b[0;32m----> 1\u001b[0m a\n",
      "\u001b[0;31mNameError\u001b[0m: name 'a' is not defined"
     ]
    }
   ],
   "source": [
    "a"
   ]
  },
  {
   "cell_type": "code",
   "execution_count": 52,
   "id": "ce4962e3",
   "metadata": {},
   "outputs": [],
   "source": [
    "b=10 # Global scope of variable\n",
    "def abc():\n",
    "    print(\"local Scope\")"
   ]
  },
  {
   "cell_type": "code",
   "execution_count": 53,
   "id": "61df0fd0",
   "metadata": {},
   "outputs": [
    {
     "data": {
      "text/plain": [
       "10"
      ]
     },
     "execution_count": 53,
     "metadata": {},
     "output_type": "execute_result"
    }
   ],
   "source": [
    "b"
   ]
  },
  {
   "cell_type": "code",
   "execution_count": 54,
   "id": "87594b97",
   "metadata": {},
   "outputs": [],
   "source": [
    "import math\n",
    "from math import sqrt"
   ]
  },
  {
   "cell_type": "code",
   "execution_count": 55,
   "id": "0041a3ac",
   "metadata": {},
   "outputs": [
    {
     "name": "stdout",
     "output_type": "stream",
     "text": [
      "Help on built-in function sqrt in module math:\n",
      "\n",
      "sqrt(x, /)\n",
      "    Return the square root of x.\n",
      "\n"
     ]
    }
   ],
   "source": [
    "help(sqrt)"
   ]
  },
  {
   "cell_type": "code",
   "execution_count": null,
   "id": "45ef9fa7",
   "metadata": {},
   "outputs": [],
   "source": []
  }
 ],
 "metadata": {
  "kernelspec": {
   "display_name": "Python 3 (ipykernel)",
   "language": "python",
   "name": "python3"
  },
  "language_info": {
   "codemirror_mode": {
    "name": "ipython",
    "version": 3
   },
   "file_extension": ".py",
   "mimetype": "text/x-python",
   "name": "python",
   "nbconvert_exporter": "python",
   "pygments_lexer": "ipython3",
   "version": "3.11.5"
  }
 },
 "nbformat": 4,
 "nbformat_minor": 5
}
