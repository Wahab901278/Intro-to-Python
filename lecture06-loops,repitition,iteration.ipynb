{
 "cells": [
  {
   "cell_type": "code",
   "execution_count": null,
   "id": "28de8364",
   "metadata": {},
   "outputs": [],
   "source": [
    "print(\"Put milk in\")\n",
    "print(\"Put sugar in\")\n",
    "print(\"Put tealeaves in\")"
   ]
  },
  {
   "cell_type": "code",
   "execution_count": null,
   "id": "77c46cb0",
   "metadata": {},
   "outputs": [],
   "source": [
    "for ingredients in \"milk\",\"sugar\",\"tealeaves\":\n",
    "    print(\"Put\",ingredients,\"in\")"
   ]
  },
  {
   "cell_type": "code",
   "execution_count": null,
   "id": "5ab36b04",
   "metadata": {},
   "outputs": [],
   "source": [
    "print(\"2 x 1 =\", 2*1)\n",
    "print(\"2 x 2 =\", 2*2)\n",
    "print(\"2 x 3 =\", 2*3)\n",
    "print(\"2 x 4 =\", 2*4)\n",
    "print(\"2 x 5 =\", 2*5)"
   ]
  },
  {
   "cell_type": "code",
   "execution_count": null,
   "id": "f31e0259",
   "metadata": {},
   "outputs": [],
   "source": [
    "for i in 1,2,3,4,5,6,7,8,9,10:\n",
    "    print(\"2 x \",i,\"=\",2*i)"
   ]
  },
  {
   "cell_type": "code",
   "execution_count": null,
   "id": "941d8611",
   "metadata": {},
   "outputs": [],
   "source": [
    "for t in range(0,10,3):\n",
    "    print(t,\" \")"
   ]
  },
  {
   "cell_type": "code",
   "execution_count": null,
   "id": "a1bae9aa",
   "metadata": {},
   "outputs": [],
   "source": [
    "string= \"Asma Alshamsi\"\n",
    "\n",
    "for letter in string:\n",
    "    print(\"->\",letter)"
   ]
  },
  {
   "cell_type": "code",
   "execution_count": null,
   "id": "8c5e3306",
   "metadata": {},
   "outputs": [],
   "source": [
    "for number in range(0,11,3):\n",
    "    print(number)"
   ]
  },
  {
   "cell_type": "code",
   "execution_count": null,
   "id": "5ea6d342",
   "metadata": {},
   "outputs": [],
   "source": [
    "n=1\n",
    "while n<=10:\n",
    "    print(n)\n",
    "    n=n+1 # n++"
   ]
  },
  {
   "cell_type": "code",
   "execution_count": null,
   "id": "3d8cdd10",
   "metadata": {},
   "outputs": [],
   "source": [
    "# Q- Print the even values between 0 to 10\n",
    "\n",
    "for value in range(0,11):\n",
    "    if value % 2 == 0:\n",
    "        print(\"Even Number\",value)"
   ]
  },
  {
   "cell_type": "code",
   "execution_count": null,
   "id": "df03cda6",
   "metadata": {},
   "outputs": [],
   "source": [
    "# Q- Print the odd values between 0 to 10\n",
    "\n",
    "for value in range(0,11):\n",
    "    if value % 2 !=0:\n",
    "        print(\"Odd Num\",value)"
   ]
  },
  {
   "cell_type": "code",
   "execution_count": null,
   "id": "eab9efc9",
   "metadata": {},
   "outputs": [],
   "source": [
    "value = 0\n",
    "\n",
    "while value <= 10:\n",
    "    if value%2==0:\n",
    "        print(value)\n",
    "    value=value+1"
   ]
  },
  {
   "cell_type": "code",
   "execution_count": null,
   "id": "c7751c60",
   "metadata": {},
   "outputs": [],
   "source": [
    "value = 0\n",
    "\n",
    "while value <= 10:\n",
    "    if value%2==1:\n",
    "        print(value)\n",
    "    value=value+1"
   ]
  },
  {
   "cell_type": "code",
   "execution_count": 1,
   "id": "b53d2bb7",
   "metadata": {},
   "outputs": [],
   "source": [
    "def fib(x):\n",
    "    if x<=1:\n",
    "        return x\n",
    "    a,b=0,1\n",
    "    for i in range(2,x+1):\n",
    "        a=b\n",
    "        b=a+b\n",
    "    return b"
   ]
  },
  {
   "cell_type": "code",
   "execution_count": 2,
   "id": "78457251",
   "metadata": {},
   "outputs": [
    {
     "data": {
      "text/plain": [
       "4"
      ]
     },
     "execution_count": 2,
     "metadata": {},
     "output_type": "execute_result"
    }
   ],
   "source": [
    "fib(3)"
   ]
  },
  {
   "cell_type": "code",
   "execution_count": null,
   "id": "479366e2",
   "metadata": {},
   "outputs": [],
   "source": []
  }
 ],
 "metadata": {
  "kernelspec": {
   "display_name": "Python 3 (ipykernel)",
   "language": "python",
   "name": "python3"
  },
  "language_info": {
   "codemirror_mode": {
    "name": "ipython",
    "version": 3
   },
   "file_extension": ".py",
   "mimetype": "text/x-python",
   "name": "python",
   "nbconvert_exporter": "python",
   "pygments_lexer": "ipython3",
   "version": "3.11.5"
  }
 },
 "nbformat": 4,
 "nbformat_minor": 5
}
